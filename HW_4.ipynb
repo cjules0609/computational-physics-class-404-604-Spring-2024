{
 "cells": [
  {
   "cell_type": "markdown",
   "id": "ca9b6a02",
   "metadata": {},
   "source": [
    "# Homework (due on 25th):\n",
    "# A person throws a ball upwards at a speed of 10 m/s, please calculate the trajectory using Runge-Kutta method\n",
    "# and plot height (z) vs time (t)."
   ]
  },
  {
   "cell_type": "code",
   "execution_count": 46,
   "id": "4f8d70fa",
   "metadata": {},
   "outputs": [
    {
     "data": {
      "image/png": "[encoded data removed]",
      "text/plain": [
       "<Figure size 432x288 with 1 Axes>"
      ]
     },
     "metadata": {
      "needs_background": "light"
     },
     "output_type": "display_data"
    }
   ],
   "source": [
    "import numpy as np\n",
    "import matplotlib.pyplot as plt\n",
    "\n",
    "g=9.8\n",
    "y=[0,0,0,10.]\n",
    "tmax = 10\n",
    "t=np.linspace(0,tmax,1000)\n",
    "h = tmax/len(t)\n",
    "\n",
    "def f(t, y):\n",
    "    f=np.zeros(4)\n",
    "    f[0]=0\n",
    "    f[1]=0\n",
    "    f[2]=y[3]\n",
    "    f[3]=-g\n",
    "    return f\n",
    "    \n",
    "def rk4(t, h, y, n):\n",
    "    k1 = np.zeros(n)\n",
    "    k2 = np.zeros(n)\n",
    "    k3 = np.zeros(n)\n",
    "    k4 = np.zeros(n)\n",
    "    k1=h*f(t,y)\n",
    "    k2=h*f(t+0.5*h,y+0.5*k1)\n",
    "    k3=h*f(t+0.5*h,y+0.5*k2)\n",
    "    k4=h*f(t+h,y+k3)\n",
    "    y+=1/6*(k1+2*k2+2*k3+k4)\n",
    "    return y\n",
    "\n",
    "yp=[]\n",
    "for _t in t:\n",
    "    y = rk4(_t,h,y,4)\n",
    "    if y[2] < 0:\n",
    "        break\n",
    "    yp=np.append(yp,y[2])\n",
    "\n",
    "t = t[0:len(yp)]\n",
    "plt.plot(t,yp)\n",
    "plt.xlabel('time [s]'); plt.ylabel('height [m]')\n",
    "plt.show()"
   ]
  },
  {
   "cell_type": "code",
   "execution_count": null,
   "id": "f7e1548f",
   "metadata": {},
   "outputs": [],
   "source": []
  }
 ],
 "metadata": {
  "kernelspec": {
   "display_name": "Python 3",
   "language": "python",
   "name": "python3"
  },
  "language_info": {
   "codemirror_mode": {
    "name": "ipython",
    "version": 3
   },
   "file_extension": ".py",
   "mimetype": "text/x-python",
   "name": "python",
   "nbconvert_exporter": "python",
   "pygments_lexer": "ipython3",
   "version": "3.8.8"
  }
 },
 "nbformat": 4,
 "nbformat_minor": 5
}
